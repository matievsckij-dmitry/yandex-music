{
 "cells": [
  {
   "cell_type": "markdown",
   "metadata": {
    "deletable": false,
    "editable": false,
    "id": "E0vqbgi9ay0H"
   },
   "source": [
    "# Яндекс Музыка"
   ]
  },
  {
   "cell_type": "markdown",
   "metadata": {
    "deletable": false,
    "editable": false,
    "id": "VUC88oWjTJw2"
   },
   "source": [
    "Сравнение Москвы и Петербурга окружено мифами. Например:\n",
    " * Москва — мегаполис, подчинённый жёсткому ритму рабочей недели;\n",
    " * Петербург — культурная столица, со своими вкусами.\n",
    "\n",
    "На данных Яндекс Музыки вы сравните поведение пользователей двух столиц.\n",
    "\n",
    "**Цель исследования** — проверьте три гипотезы:\n",
    "1. Активность пользователей зависит от дня недели. Причём в Москве и Петербурге это проявляется по-разному.\n",
    "2. В понедельник утром в Москве преобладают одни жанры, а в Петербурге — другие. Так же и вечером пятницы преобладают разные жанры — в зависимости от города.\n",
    "3. Москва и Петербург предпочитают разные жанры музыки. В Москве чаще слушают поп-музыку, в Петербурге — русский рэп.\n",
    "\n",
    "**Ход исследования**\n",
    "\n",
    "Данные о поведении пользователей вы получите из файла `yandex_music_project.csv`. О качестве данных ничего не известно. Поэтому перед проверкой гипотез понадобится обзор данных.\n",
    "\n",
    "Вы проверите данные на ошибки и оцените их влияние на исследование. Затем, на этапе предобработки вы поищете возможность исправить самые критичные ошибки данных.\n",
    "\n",
    "Таким образом, исследование пройдёт в три этапа:\n",
    " 1. Обзор данных.\n",
    " 2. Предобработка данных.\n",
    " 3. Проверка гипотез.\n",
    "\n"
   ]
  },
  {
   "cell_type": "markdown",
   "metadata": {
    "deletable": false,
    "editable": false,
    "id": "Ml1hmfXC_Zcs"
   },
   "source": [
    "## Обзор данных\n",
    "\n",
    "Составьте первое представление о данных Яндекс Музыки.\n",
    "\n",
    "\n"
   ]
  },
  {
   "cell_type": "markdown",
   "metadata": {
    "deletable": false,
    "editable": false,
    "id": "57eAOGIz_Zcs",
    "tags": [
     "start_task"
    ]
   },
   "source": [
    "**Задание 1**"
   ]
  },
  {
   "cell_type": "code",
   "execution_count": 1,
   "metadata": {
    "deletable": false,
    "id": "AXN7PHPN_Zcs"
   },
   "outputs": [],
   "source": [
    "# импорт библиотеки pandas\n",
    "import pandas as pd"
   ]
  },
  {
   "cell_type": "markdown",
   "metadata": {
    "deletable": false,
    "editable": false,
    "id": "SG23P8tt_Zcs",
    "tags": [
     "start_task"
    ]
   },
   "source": [
    "**Задание 2**"
   ]
  },
  {
   "cell_type": "code",
   "execution_count": 2,
   "metadata": {
    "deletable": false,
    "id": "fFVu7vqh_Zct",
    "scrolled": true
   },
   "outputs": [],
   "source": [
    "# чтение файла с данными и сохранение в df\n",
    "df = pd.read_csv('/datasets/yandex_music_project.csv')"
   ]
  },
  {
   "cell_type": "markdown",
   "metadata": {
    "deletable": false,
    "editable": false,
    "id": "rDoOMd3uTqnZ",
    "tags": [
     "start_task"
    ]
   },
   "source": [
    "**Задание 3**"
   ]
  },
  {
   "cell_type": "code",
   "execution_count": 3,
   "metadata": {
    "deletable": false,
    "id": "oWTVX3gW_Zct",
    "scrolled": true
   },
   "outputs": [
    {
     "data": {
      "text/html": [
       "<div>\n",
       "<style scoped>\n",
       "    .dataframe tbody tr th:only-of-type {\n",
       "        vertical-align: middle;\n",
       "    }\n",
       "\n",
       "    .dataframe tbody tr th {\n",
       "        vertical-align: top;\n",
       "    }\n",
       "\n",
       "    .dataframe thead th {\n",
       "        text-align: right;\n",
       "    }\n",
       "</style>\n",
       "<table border=\"1\" class=\"dataframe\">\n",
       "  <thead>\n",
       "    <tr style=\"text-align: right;\">\n",
       "      <th></th>\n",
       "      <th>userID</th>\n",
       "      <th>Track</th>\n",
       "      <th>artist</th>\n",
       "      <th>genre</th>\n",
       "      <th>City</th>\n",
       "      <th>time</th>\n",
       "      <th>Day</th>\n",
       "    </tr>\n",
       "  </thead>\n",
       "  <tbody>\n",
       "    <tr>\n",
       "      <th>0</th>\n",
       "      <td>FFB692EC</td>\n",
       "      <td>Kamigata To Boots</td>\n",
       "      <td>The Mass Missile</td>\n",
       "      <td>rock</td>\n",
       "      <td>Saint-Petersburg</td>\n",
       "      <td>20:28:33</td>\n",
       "      <td>Wednesday</td>\n",
       "    </tr>\n",
       "    <tr>\n",
       "      <th>1</th>\n",
       "      <td>55204538</td>\n",
       "      <td>Delayed Because of Accident</td>\n",
       "      <td>Andreas Rönnberg</td>\n",
       "      <td>rock</td>\n",
       "      <td>Moscow</td>\n",
       "      <td>14:07:09</td>\n",
       "      <td>Friday</td>\n",
       "    </tr>\n",
       "    <tr>\n",
       "      <th>2</th>\n",
       "      <td>20EC38</td>\n",
       "      <td>Funiculì funiculà</td>\n",
       "      <td>Mario Lanza</td>\n",
       "      <td>pop</td>\n",
       "      <td>Saint-Petersburg</td>\n",
       "      <td>20:58:07</td>\n",
       "      <td>Wednesday</td>\n",
       "    </tr>\n",
       "    <tr>\n",
       "      <th>3</th>\n",
       "      <td>A3DD03C9</td>\n",
       "      <td>Dragons in the Sunset</td>\n",
       "      <td>Fire + Ice</td>\n",
       "      <td>folk</td>\n",
       "      <td>Saint-Petersburg</td>\n",
       "      <td>08:37:09</td>\n",
       "      <td>Monday</td>\n",
       "    </tr>\n",
       "    <tr>\n",
       "      <th>4</th>\n",
       "      <td>E2DC1FAE</td>\n",
       "      <td>Soul People</td>\n",
       "      <td>Space Echo</td>\n",
       "      <td>dance</td>\n",
       "      <td>Moscow</td>\n",
       "      <td>08:34:34</td>\n",
       "      <td>Monday</td>\n",
       "    </tr>\n",
       "    <tr>\n",
       "      <th>5</th>\n",
       "      <td>842029A1</td>\n",
       "      <td>Преданная</td>\n",
       "      <td>IMPERVTOR</td>\n",
       "      <td>rusrap</td>\n",
       "      <td>Saint-Petersburg</td>\n",
       "      <td>13:09:41</td>\n",
       "      <td>Friday</td>\n",
       "    </tr>\n",
       "    <tr>\n",
       "      <th>6</th>\n",
       "      <td>4CB90AA5</td>\n",
       "      <td>True</td>\n",
       "      <td>Roman Messer</td>\n",
       "      <td>dance</td>\n",
       "      <td>Moscow</td>\n",
       "      <td>13:00:07</td>\n",
       "      <td>Wednesday</td>\n",
       "    </tr>\n",
       "    <tr>\n",
       "      <th>7</th>\n",
       "      <td>F03E1C1F</td>\n",
       "      <td>Feeling This Way</td>\n",
       "      <td>Polina Griffith</td>\n",
       "      <td>dance</td>\n",
       "      <td>Moscow</td>\n",
       "      <td>20:47:49</td>\n",
       "      <td>Wednesday</td>\n",
       "    </tr>\n",
       "    <tr>\n",
       "      <th>8</th>\n",
       "      <td>8FA1D3BE</td>\n",
       "      <td>И вновь продолжается бой</td>\n",
       "      <td>NaN</td>\n",
       "      <td>ruspop</td>\n",
       "      <td>Moscow</td>\n",
       "      <td>09:17:40</td>\n",
       "      <td>Friday</td>\n",
       "    </tr>\n",
       "    <tr>\n",
       "      <th>9</th>\n",
       "      <td>E772D5C0</td>\n",
       "      <td>Pessimist</td>\n",
       "      <td>NaN</td>\n",
       "      <td>dance</td>\n",
       "      <td>Saint-Petersburg</td>\n",
       "      <td>21:20:49</td>\n",
       "      <td>Wednesday</td>\n",
       "    </tr>\n",
       "  </tbody>\n",
       "</table>\n",
       "</div>"
      ],
      "text/plain": [
       "     userID                        Track            artist   genre  \\\n",
       "0  FFB692EC            Kamigata To Boots  The Mass Missile    rock   \n",
       "1  55204538  Delayed Because of Accident  Andreas Rönnberg    rock   \n",
       "2    20EC38            Funiculì funiculà       Mario Lanza     pop   \n",
       "3  A3DD03C9        Dragons in the Sunset        Fire + Ice    folk   \n",
       "4  E2DC1FAE                  Soul People        Space Echo   dance   \n",
       "5  842029A1                    Преданная         IMPERVTOR  rusrap   \n",
       "6  4CB90AA5                         True      Roman Messer   dance   \n",
       "7  F03E1C1F             Feeling This Way   Polina Griffith   dance   \n",
       "8  8FA1D3BE     И вновь продолжается бой               NaN  ruspop   \n",
       "9  E772D5C0                    Pessimist               NaN   dance   \n",
       "\n",
       "             City        time        Day  \n",
       "0  Saint-Petersburg  20:28:33  Wednesday  \n",
       "1            Moscow  14:07:09     Friday  \n",
       "2  Saint-Petersburg  20:58:07  Wednesday  \n",
       "3  Saint-Petersburg  08:37:09     Monday  \n",
       "4            Moscow  08:34:34     Monday  \n",
       "5  Saint-Petersburg  13:09:41     Friday  \n",
       "6            Moscow  13:00:07  Wednesday  \n",
       "7            Moscow  20:47:49  Wednesday  \n",
       "8            Moscow  09:17:40     Friday  \n",
       "9  Saint-Petersburg  21:20:49  Wednesday  "
      ]
     },
     "execution_count": 3,
     "metadata": {},
     "output_type": "execute_result"
    }
   ],
   "source": [
    "# получение первых 10 строк таблицы df\n",
    "df.head(10)"
   ]
  },
  {
   "cell_type": "markdown",
   "metadata": {
    "deletable": false,
    "editable": false,
    "id": "EO73Kwic_Zct",
    "tags": [
     "start_task"
    ]
   },
   "source": [
    "**Задание 4**"
   ]
  },
  {
   "cell_type": "code",
   "execution_count": 4,
   "metadata": {
    "deletable": false,
    "id": "DSf2kIb-_Zct"
   },
   "outputs": [
    {
     "name": "stdout",
     "output_type": "stream",
     "text": [
      "<class 'pandas.core.frame.DataFrame'>\n",
      "RangeIndex: 65079 entries, 0 to 65078\n",
      "Data columns (total 7 columns):\n",
      " #   Column    Non-Null Count  Dtype \n",
      "---  ------    --------------  ----- \n",
      " 0     userID  65079 non-null  object\n",
      " 1   Track     63848 non-null  object\n",
      " 2   artist    57876 non-null  object\n",
      " 3   genre     63881 non-null  object\n",
      " 4     City    65079 non-null  object\n",
      " 5   time      65079 non-null  object\n",
      " 6   Day       65079 non-null  object\n",
      "dtypes: object(7)\n",
      "memory usage: 3.5+ MB\n"
     ]
    }
   ],
   "source": [
    "# получение общей информации о данных в таблице df\n",
    "df.info()"
   ]
  },
  {
   "cell_type": "markdown",
   "metadata": {
    "deletable": false,
    "editable": false,
    "id": "TaQ2Iwbr_Zct"
   },
   "source": [
    "Количество значений в столбцах различается. Значит, в данных есть пропущенные значения."
   ]
  },
  {
   "cell_type": "markdown",
   "metadata": {
    "deletable": false,
    "editable": false,
    "id": "4P0UCWzswgEm",
    "tags": [
     "start_task"
    ]
   },
   "source": [
    "**Задание 5**"
   ]
  },
  {
   "cell_type": "code",
   "execution_count": 5,
   "metadata": {
    "id": "c137-ZstwgEm"
   },
   "outputs": [],
   "source": [
    "# Напишите ваш ответ здесь комментарием. Не удаляйте символ #. Не меняйте тип этой ячейки на Markdown.\n",
    "# змеиный регистр"
   ]
  },
  {
   "cell_type": "markdown",
   "metadata": {
    "deletable": false,
    "editable": false,
    "id": "MCB6-dXG_Zct"
   },
   "source": [
    "**Выводы**\n",
    "\n",
    "В каждой строке таблицы — данные о прослушанном треке. Часть колонок описывает саму композицию: название, исполнителя и жанр. Остальные данные рассказывают о пользователе: из какого он города, когда он слушал музыку.\n",
    "\n",
    "Предварительно можно утверждать, что данных достаточно для проверки гипотез. Но встречаются пропуски в данных, а в названиях колонок — расхождения с хорошим стилем.\n",
    "\n",
    "Чтобы двигаться дальше, нужно устранить проблемы в данных."
   ]
  },
  {
   "cell_type": "markdown",
   "metadata": {
    "deletable": false,
    "editable": false,
    "id": "SjYF6Ub9_Zct"
   },
   "source": [
    "## Предобработка данных"
   ]
  },
  {
   "cell_type": "markdown",
   "metadata": {
    "deletable": false,
    "editable": false,
    "id": "dIaKXr29_Zct",
    "tags": [
     "start_task"
    ]
   },
   "source": [
    "### Переименование столбцов\n",
    "\n",
    "**Задание 6**"
   ]
  },
  {
   "cell_type": "code",
   "execution_count": 6,
   "metadata": {
    "deletable": false,
    "id": "oKOTdF_Q_Zct"
   },
   "outputs": [
    {
     "data": {
      "text/plain": [
       "Index(['  userID', 'Track', 'artist', 'genre', '  City  ', 'time', 'Day'], dtype='object')"
      ]
     },
     "execution_count": 6,
     "metadata": {},
     "output_type": "execute_result"
    }
   ],
   "source": [
    "# перечень названий столбцов таблицы df\n",
    "df.columns"
   ]
  },
  {
   "cell_type": "markdown",
   "metadata": {
    "deletable": false,
    "editable": false,
    "id": "zj5534cv_Zct",
    "tags": [
     "start_task"
    ]
   },
   "source": [
    "**Задание 7**"
   ]
  },
  {
   "cell_type": "code",
   "execution_count": 7,
   "metadata": {
    "deletable": false,
    "id": "ISlFqs5y_Zct"
   },
   "outputs": [],
   "source": [
    "# переименование столбцов\n",
    "new_columns = {\n",
    "    '  userID':'user_id',\n",
    "    'Track':'track',\n",
    "    '  City  ':'city',\n",
    "    'Day':'day'\n",
    "}\n",
    "\n",
    "df = df.rename(columns=new_columns)"
   ]
  },
  {
   "cell_type": "markdown",
   "metadata": {
    "deletable": false,
    "editable": false,
    "id": "1dqbh00J_Zct",
    "tags": [
     "start_task"
    ]
   },
   "source": [
    "**Задание 8**"
   ]
  },
  {
   "cell_type": "code",
   "execution_count": 8,
   "metadata": {
    "deletable": false,
    "id": "d4NOAmTW_Zct"
   },
   "outputs": [
    {
     "data": {
      "text/plain": [
       "Index(['user_id', 'track', 'artist', 'genre', 'city', 'time', 'day'], dtype='object')"
      ]
     },
     "execution_count": 8,
     "metadata": {},
     "output_type": "execute_result"
    }
   ],
   "source": [
    "# проверка результатов - перечень названий столбцов\n",
    "df.columns"
   ]
  },
  {
   "cell_type": "markdown",
   "metadata": {
    "deletable": false,
    "editable": false,
    "id": "5ISfbcfY_Zct",
    "tags": [
     "start_task"
    ]
   },
   "source": [
    "### Обработка пропущенных значений\n",
    "\n",
    "**Задание 9**"
   ]
  },
  {
   "cell_type": "code",
   "execution_count": 9,
   "metadata": {
    "deletable": false,
    "id": "RskX29qr_Zct"
   },
   "outputs": [
    {
     "data": {
      "text/plain": [
       "user_id       0\n",
       "track      1231\n",
       "artist     7203\n",
       "genre      1198\n",
       "city          0\n",
       "time          0\n",
       "day           0\n",
       "dtype: int64"
      ]
     },
     "execution_count": 9,
     "metadata": {},
     "output_type": "execute_result"
    }
   ],
   "source": [
    "# подсчёт пропусков\n",
    "df.isna().sum()"
   ]
  },
  {
   "cell_type": "markdown",
   "metadata": {
    "deletable": false,
    "editable": false,
    "id": "fSv2laPA_Zct",
    "tags": [
     "start_task"
    ]
   },
   "source": [
    "**Задание 10**"
   ]
  },
  {
   "cell_type": "code",
   "execution_count": 10,
   "metadata": {
    "deletable": false,
    "id": "KplB5qWs_Zct"
   },
   "outputs": [],
   "source": [
    "# замена пропущенных значений на 'unknown'\n",
    "df = df.fillna('unknown')"
   ]
  },
  {
   "cell_type": "markdown",
   "metadata": {
    "deletable": false,
    "editable": false,
    "id": "Ilsm-MZo_Zct",
    "tags": [
     "start_task"
    ]
   },
   "source": [
    "**Задание 11**"
   ]
  },
  {
   "cell_type": "code",
   "execution_count": 11,
   "metadata": {
    "deletable": false,
    "id": "Tq4nYRX4_Zct"
   },
   "outputs": [
    {
     "data": {
      "text/plain": [
       "user_id    0\n",
       "track      0\n",
       "artist     0\n",
       "genre      0\n",
       "city       0\n",
       "time       0\n",
       "day        0\n",
       "dtype: int64"
      ]
     },
     "execution_count": 11,
     "metadata": {},
     "output_type": "execute_result"
    }
   ],
   "source": [
    "# проверка на отсутствие пропусков\n",
    "df.isna().sum()"
   ]
  },
  {
   "cell_type": "markdown",
   "metadata": {
    "deletable": false,
    "editable": false,
    "id": "BWKRtBJ3_Zct",
    "tags": [
     "start_task"
    ]
   },
   "source": [
    "### Обработка дубликатов\n",
    "\n",
    "**Задание 12**"
   ]
  },
  {
   "cell_type": "code",
   "execution_count": 12,
   "metadata": {
    "deletable": false,
    "id": "36eES_S0_Zct"
   },
   "outputs": [
    {
     "data": {
      "text/plain": [
       "3826"
      ]
     },
     "execution_count": 12,
     "metadata": {},
     "output_type": "execute_result"
    }
   ],
   "source": [
    "# подсчёт явных дубликатов\n",
    "df.duplicated().sum()"
   ]
  },
  {
   "cell_type": "markdown",
   "metadata": {
    "deletable": false,
    "editable": false,
    "id": "Ot25h6XR_Zct",
    "tags": [
     "start_task"
    ]
   },
   "source": [
    "**Задание 13**"
   ]
  },
  {
   "cell_type": "code",
   "execution_count": 13,
   "metadata": {
    "deletable": false,
    "id": "exFHq6tt_Zct"
   },
   "outputs": [],
   "source": [
    "# удаление явных дубликатов, создание новых индексов и удаление старых\n",
    "df = df.drop_duplicates().reset_index(drop=True) "
   ]
  },
  {
   "cell_type": "markdown",
   "metadata": {
    "deletable": false,
    "editable": false,
    "id": "Im2YwBEG_Zct",
    "tags": [
     "start_task"
    ]
   },
   "source": [
    "**Задание 14**"
   ]
  },
  {
   "cell_type": "code",
   "execution_count": 14,
   "metadata": {
    "deletable": false,
    "id": "-8PuNWQ0_Zct"
   },
   "outputs": [
    {
     "data": {
      "text/plain": [
       "0"
      ]
     },
     "execution_count": 14,
     "metadata": {},
     "output_type": "execute_result"
    }
   ],
   "source": [
    "# проверка на отсутствие явных дубликатов\n",
    "df.duplicated().sum()"
   ]
  },
  {
   "cell_type": "markdown",
   "metadata": {
    "deletable": false,
    "editable": false,
    "id": "eSjWwsOh_Zct",
    "tags": [
     "start_task"
    ]
   },
   "source": [
    "**Задание 15**"
   ]
  },
  {
   "cell_type": "code",
   "execution_count": 15,
   "metadata": {
    "deletable": false,
    "id": "JIUcqzZN_Zct",
    "scrolled": true
   },
   "outputs": [
    {
     "data": {
      "text/plain": [
       "['acid',\n",
       " 'acoustic',\n",
       " 'action',\n",
       " 'adult',\n",
       " 'africa',\n",
       " 'afrikaans',\n",
       " 'alternative',\n",
       " 'alternativepunk',\n",
       " 'ambient',\n",
       " 'americana',\n",
       " 'animated',\n",
       " 'anime',\n",
       " 'arabesk',\n",
       " 'arabic',\n",
       " 'arena',\n",
       " 'argentinetango',\n",
       " 'art',\n",
       " 'audiobook',\n",
       " 'author',\n",
       " 'avantgarde',\n",
       " 'axé',\n",
       " 'baile',\n",
       " 'balkan',\n",
       " 'beats',\n",
       " 'bigroom',\n",
       " 'black',\n",
       " 'bluegrass',\n",
       " 'blues',\n",
       " 'bollywood',\n",
       " 'bossa',\n",
       " 'brazilian',\n",
       " 'breakbeat',\n",
       " 'breaks',\n",
       " 'broadway',\n",
       " 'cantautori',\n",
       " 'cantopop',\n",
       " 'canzone',\n",
       " 'caribbean',\n",
       " 'caucasian',\n",
       " 'celtic',\n",
       " 'chamber',\n",
       " 'chanson',\n",
       " 'children',\n",
       " 'chill',\n",
       " 'chinese',\n",
       " 'choral',\n",
       " 'christian',\n",
       " 'christmas',\n",
       " 'classical',\n",
       " 'classicmetal',\n",
       " 'club',\n",
       " 'colombian',\n",
       " 'comedy',\n",
       " 'conjazz',\n",
       " 'contemporary',\n",
       " 'country',\n",
       " 'cuban',\n",
       " 'dance',\n",
       " 'dancehall',\n",
       " 'dancepop',\n",
       " 'dark',\n",
       " 'death',\n",
       " 'deep',\n",
       " 'deutschrock',\n",
       " 'deutschspr',\n",
       " 'dirty',\n",
       " 'disco',\n",
       " 'dnb',\n",
       " 'documentary',\n",
       " 'downbeat',\n",
       " 'downtempo',\n",
       " 'drum',\n",
       " 'dub',\n",
       " 'dubstep',\n",
       " 'eastern',\n",
       " 'easy',\n",
       " 'electronic',\n",
       " 'electropop',\n",
       " 'emo',\n",
       " 'entehno',\n",
       " 'epicmetal',\n",
       " 'estrada',\n",
       " 'ethnic',\n",
       " 'eurofolk',\n",
       " 'european',\n",
       " 'experimental',\n",
       " 'extrememetal',\n",
       " 'fado',\n",
       " 'fairytail',\n",
       " 'film',\n",
       " 'fitness',\n",
       " 'flamenco',\n",
       " 'folk',\n",
       " 'folklore',\n",
       " 'folkmetal',\n",
       " 'folkrock',\n",
       " 'folktronica',\n",
       " 'forró',\n",
       " 'frankreich',\n",
       " 'französisch',\n",
       " 'french',\n",
       " 'funk',\n",
       " 'future',\n",
       " 'gangsta',\n",
       " 'garage',\n",
       " 'german',\n",
       " 'ghazal',\n",
       " 'gitarre',\n",
       " 'glitch',\n",
       " 'gospel',\n",
       " 'gothic',\n",
       " 'grime',\n",
       " 'grunge',\n",
       " 'gypsy',\n",
       " 'handsup',\n",
       " \"hard'n'heavy\",\n",
       " 'hardcore',\n",
       " 'hardstyle',\n",
       " 'hardtechno',\n",
       " 'hip',\n",
       " 'hip-hop',\n",
       " 'hiphop',\n",
       " 'historisch',\n",
       " 'holiday',\n",
       " 'hop',\n",
       " 'horror',\n",
       " 'house',\n",
       " 'hymn',\n",
       " 'idm',\n",
       " 'independent',\n",
       " 'indian',\n",
       " 'indie',\n",
       " 'indipop',\n",
       " 'industrial',\n",
       " 'inspirational',\n",
       " 'instrumental',\n",
       " 'international',\n",
       " 'irish',\n",
       " 'jam',\n",
       " 'japanese',\n",
       " 'jazz',\n",
       " 'jewish',\n",
       " 'jpop',\n",
       " 'jungle',\n",
       " 'k-pop',\n",
       " 'karadeniz',\n",
       " 'karaoke',\n",
       " 'kayokyoku',\n",
       " 'korean',\n",
       " 'laiko',\n",
       " 'latin',\n",
       " 'latino',\n",
       " 'leftfield',\n",
       " 'local',\n",
       " 'lounge',\n",
       " 'loungeelectronic',\n",
       " 'lovers',\n",
       " 'malaysian',\n",
       " 'mandopop',\n",
       " 'marschmusik',\n",
       " 'meditative',\n",
       " 'mediterranean',\n",
       " 'melodic',\n",
       " 'metal',\n",
       " 'metalcore',\n",
       " 'mexican',\n",
       " 'middle',\n",
       " 'minimal',\n",
       " 'miscellaneous',\n",
       " 'modern',\n",
       " 'mood',\n",
       " 'mpb',\n",
       " 'muslim',\n",
       " 'native',\n",
       " 'neoklassik',\n",
       " 'neue',\n",
       " 'new',\n",
       " 'newage',\n",
       " 'newwave',\n",
       " 'nu',\n",
       " 'nujazz',\n",
       " 'numetal',\n",
       " 'oceania',\n",
       " 'old',\n",
       " 'opera',\n",
       " 'orchestral',\n",
       " 'other',\n",
       " 'piano',\n",
       " 'podcasts',\n",
       " 'pop',\n",
       " 'popdance',\n",
       " 'popelectronic',\n",
       " 'popeurodance',\n",
       " 'poprussian',\n",
       " 'post',\n",
       " 'posthardcore',\n",
       " 'postrock',\n",
       " 'power',\n",
       " 'progmetal',\n",
       " 'progressive',\n",
       " 'psychedelic',\n",
       " 'punjabi',\n",
       " 'punk',\n",
       " 'quebecois',\n",
       " 'ragga',\n",
       " 'ram',\n",
       " 'rancheras',\n",
       " 'rap',\n",
       " 'rave',\n",
       " 'reggae',\n",
       " 'reggaeton',\n",
       " 'regional',\n",
       " 'relax',\n",
       " 'religious',\n",
       " 'retro',\n",
       " 'rhythm',\n",
       " 'rnb',\n",
       " 'rnr',\n",
       " 'rock',\n",
       " 'rockabilly',\n",
       " 'rockalternative',\n",
       " 'rockindie',\n",
       " 'rockother',\n",
       " 'romance',\n",
       " 'roots',\n",
       " 'ruspop',\n",
       " 'rusrap',\n",
       " 'rusrock',\n",
       " 'russian',\n",
       " 'salsa',\n",
       " 'samba',\n",
       " 'scenic',\n",
       " 'schlager',\n",
       " 'self',\n",
       " 'sertanejo',\n",
       " 'shanson',\n",
       " 'shoegazing',\n",
       " 'showtunes',\n",
       " 'singer',\n",
       " 'ska',\n",
       " 'skarock',\n",
       " 'slow',\n",
       " 'smooth',\n",
       " 'soft',\n",
       " 'soul',\n",
       " 'soulful',\n",
       " 'sound',\n",
       " 'soundtrack',\n",
       " 'southern',\n",
       " 'specialty',\n",
       " 'speech',\n",
       " 'spiritual',\n",
       " 'sport',\n",
       " 'stonerrock',\n",
       " 'surf',\n",
       " 'swing',\n",
       " 'synthpop',\n",
       " 'synthrock',\n",
       " 'sängerportrait',\n",
       " 'tango',\n",
       " 'tanzorchester',\n",
       " 'taraftar',\n",
       " 'tatar',\n",
       " 'tech',\n",
       " 'techno',\n",
       " 'teen',\n",
       " 'thrash',\n",
       " 'top',\n",
       " 'traditional',\n",
       " 'tradjazz',\n",
       " 'trance',\n",
       " 'tribal',\n",
       " 'trip',\n",
       " 'triphop',\n",
       " 'tropical',\n",
       " 'türk',\n",
       " 'türkçe',\n",
       " 'ukrrock',\n",
       " 'unknown',\n",
       " 'urban',\n",
       " 'uzbek',\n",
       " 'variété',\n",
       " 'vi',\n",
       " 'videogame',\n",
       " 'vocal',\n",
       " 'western',\n",
       " 'world',\n",
       " 'worldbeat',\n",
       " 'ïîï',\n",
       " 'электроника']"
      ]
     },
     "execution_count": 15,
     "metadata": {},
     "output_type": "execute_result"
    }
   ],
   "source": [
    "# просмотр уникальных отсортированных названий жанров\n",
    "sorted(df['genre'].unique())"
   ]
  },
  {
   "cell_type": "markdown",
   "metadata": {
    "deletable": false,
    "editable": false,
    "id": "qej-Qmuo_Zct",
    "tags": [
     "start_task"
    ]
   },
   "source": [
    "**Задание 16**"
   ]
  },
  {
   "cell_type": "code",
   "execution_count": 16,
   "metadata": {
    "deletable": false,
    "id": "ErNDkmns_Zct"
   },
   "outputs": [],
   "source": [
    "def replace_wrong_values(wrong_values, correct_value):\n",
    "    for wrong_value in wrong_values:\n",
    "        df['genre'] = df['genre'].replace(wrong_value, correct_value)\n",
    "\n",
    "duplicates = ['hip', 'hop', 'hip-hop']\n",
    "original = 'hiphop'\n",
    "\n",
    "replace_wrong_values(duplicates, original)"
   ]
  },
  {
   "cell_type": "markdown",
   "metadata": {
    "deletable": false,
    "editable": false,
    "id": "zQKF16_RG15m",
    "tags": [
     "start_task"
    ]
   },
   "source": [
    "**Задание 17**"
   ]
  },
  {
   "cell_type": "code",
   "execution_count": 17,
   "metadata": {
    "deletable": false,
    "id": "wvixALnFG15m"
   },
   "outputs": [
    {
     "data": {
      "text/plain": [
       "['acid',\n",
       " 'acoustic',\n",
       " 'action',\n",
       " 'adult',\n",
       " 'africa',\n",
       " 'afrikaans',\n",
       " 'alternative',\n",
       " 'alternativepunk',\n",
       " 'ambient',\n",
       " 'americana',\n",
       " 'animated',\n",
       " 'anime',\n",
       " 'arabesk',\n",
       " 'arabic',\n",
       " 'arena',\n",
       " 'argentinetango',\n",
       " 'art',\n",
       " 'audiobook',\n",
       " 'author',\n",
       " 'avantgarde',\n",
       " 'axé',\n",
       " 'baile',\n",
       " 'balkan',\n",
       " 'beats',\n",
       " 'bigroom',\n",
       " 'black',\n",
       " 'bluegrass',\n",
       " 'blues',\n",
       " 'bollywood',\n",
       " 'bossa',\n",
       " 'brazilian',\n",
       " 'breakbeat',\n",
       " 'breaks',\n",
       " 'broadway',\n",
       " 'cantautori',\n",
       " 'cantopop',\n",
       " 'canzone',\n",
       " 'caribbean',\n",
       " 'caucasian',\n",
       " 'celtic',\n",
       " 'chamber',\n",
       " 'chanson',\n",
       " 'children',\n",
       " 'chill',\n",
       " 'chinese',\n",
       " 'choral',\n",
       " 'christian',\n",
       " 'christmas',\n",
       " 'classical',\n",
       " 'classicmetal',\n",
       " 'club',\n",
       " 'colombian',\n",
       " 'comedy',\n",
       " 'conjazz',\n",
       " 'contemporary',\n",
       " 'country',\n",
       " 'cuban',\n",
       " 'dance',\n",
       " 'dancehall',\n",
       " 'dancepop',\n",
       " 'dark',\n",
       " 'death',\n",
       " 'deep',\n",
       " 'deutschrock',\n",
       " 'deutschspr',\n",
       " 'dirty',\n",
       " 'disco',\n",
       " 'dnb',\n",
       " 'documentary',\n",
       " 'downbeat',\n",
       " 'downtempo',\n",
       " 'drum',\n",
       " 'dub',\n",
       " 'dubstep',\n",
       " 'eastern',\n",
       " 'easy',\n",
       " 'electronic',\n",
       " 'electropop',\n",
       " 'emo',\n",
       " 'entehno',\n",
       " 'epicmetal',\n",
       " 'estrada',\n",
       " 'ethnic',\n",
       " 'eurofolk',\n",
       " 'european',\n",
       " 'experimental',\n",
       " 'extrememetal',\n",
       " 'fado',\n",
       " 'fairytail',\n",
       " 'film',\n",
       " 'fitness',\n",
       " 'flamenco',\n",
       " 'folk',\n",
       " 'folklore',\n",
       " 'folkmetal',\n",
       " 'folkrock',\n",
       " 'folktronica',\n",
       " 'forró',\n",
       " 'frankreich',\n",
       " 'französisch',\n",
       " 'french',\n",
       " 'funk',\n",
       " 'future',\n",
       " 'gangsta',\n",
       " 'garage',\n",
       " 'german',\n",
       " 'ghazal',\n",
       " 'gitarre',\n",
       " 'glitch',\n",
       " 'gospel',\n",
       " 'gothic',\n",
       " 'grime',\n",
       " 'grunge',\n",
       " 'gypsy',\n",
       " 'handsup',\n",
       " \"hard'n'heavy\",\n",
       " 'hardcore',\n",
       " 'hardstyle',\n",
       " 'hardtechno',\n",
       " 'hiphop',\n",
       " 'historisch',\n",
       " 'holiday',\n",
       " 'horror',\n",
       " 'house',\n",
       " 'hymn',\n",
       " 'idm',\n",
       " 'independent',\n",
       " 'indian',\n",
       " 'indie',\n",
       " 'indipop',\n",
       " 'industrial',\n",
       " 'inspirational',\n",
       " 'instrumental',\n",
       " 'international',\n",
       " 'irish',\n",
       " 'jam',\n",
       " 'japanese',\n",
       " 'jazz',\n",
       " 'jewish',\n",
       " 'jpop',\n",
       " 'jungle',\n",
       " 'k-pop',\n",
       " 'karadeniz',\n",
       " 'karaoke',\n",
       " 'kayokyoku',\n",
       " 'korean',\n",
       " 'laiko',\n",
       " 'latin',\n",
       " 'latino',\n",
       " 'leftfield',\n",
       " 'local',\n",
       " 'lounge',\n",
       " 'loungeelectronic',\n",
       " 'lovers',\n",
       " 'malaysian',\n",
       " 'mandopop',\n",
       " 'marschmusik',\n",
       " 'meditative',\n",
       " 'mediterranean',\n",
       " 'melodic',\n",
       " 'metal',\n",
       " 'metalcore',\n",
       " 'mexican',\n",
       " 'middle',\n",
       " 'minimal',\n",
       " 'miscellaneous',\n",
       " 'modern',\n",
       " 'mood',\n",
       " 'mpb',\n",
       " 'muslim',\n",
       " 'native',\n",
       " 'neoklassik',\n",
       " 'neue',\n",
       " 'new',\n",
       " 'newage',\n",
       " 'newwave',\n",
       " 'nu',\n",
       " 'nujazz',\n",
       " 'numetal',\n",
       " 'oceania',\n",
       " 'old',\n",
       " 'opera',\n",
       " 'orchestral',\n",
       " 'other',\n",
       " 'piano',\n",
       " 'podcasts',\n",
       " 'pop',\n",
       " 'popdance',\n",
       " 'popelectronic',\n",
       " 'popeurodance',\n",
       " 'poprussian',\n",
       " 'post',\n",
       " 'posthardcore',\n",
       " 'postrock',\n",
       " 'power',\n",
       " 'progmetal',\n",
       " 'progressive',\n",
       " 'psychedelic',\n",
       " 'punjabi',\n",
       " 'punk',\n",
       " 'quebecois',\n",
       " 'ragga',\n",
       " 'ram',\n",
       " 'rancheras',\n",
       " 'rap',\n",
       " 'rave',\n",
       " 'reggae',\n",
       " 'reggaeton',\n",
       " 'regional',\n",
       " 'relax',\n",
       " 'religious',\n",
       " 'retro',\n",
       " 'rhythm',\n",
       " 'rnb',\n",
       " 'rnr',\n",
       " 'rock',\n",
       " 'rockabilly',\n",
       " 'rockalternative',\n",
       " 'rockindie',\n",
       " 'rockother',\n",
       " 'romance',\n",
       " 'roots',\n",
       " 'ruspop',\n",
       " 'rusrap',\n",
       " 'rusrock',\n",
       " 'russian',\n",
       " 'salsa',\n",
       " 'samba',\n",
       " 'scenic',\n",
       " 'schlager',\n",
       " 'self',\n",
       " 'sertanejo',\n",
       " 'shanson',\n",
       " 'shoegazing',\n",
       " 'showtunes',\n",
       " 'singer',\n",
       " 'ska',\n",
       " 'skarock',\n",
       " 'slow',\n",
       " 'smooth',\n",
       " 'soft',\n",
       " 'soul',\n",
       " 'soulful',\n",
       " 'sound',\n",
       " 'soundtrack',\n",
       " 'southern',\n",
       " 'specialty',\n",
       " 'speech',\n",
       " 'spiritual',\n",
       " 'sport',\n",
       " 'stonerrock',\n",
       " 'surf',\n",
       " 'swing',\n",
       " 'synthpop',\n",
       " 'synthrock',\n",
       " 'sängerportrait',\n",
       " 'tango',\n",
       " 'tanzorchester',\n",
       " 'taraftar',\n",
       " 'tatar',\n",
       " 'tech',\n",
       " 'techno',\n",
       " 'teen',\n",
       " 'thrash',\n",
       " 'top',\n",
       " 'traditional',\n",
       " 'tradjazz',\n",
       " 'trance',\n",
       " 'tribal',\n",
       " 'trip',\n",
       " 'triphop',\n",
       " 'tropical',\n",
       " 'türk',\n",
       " 'türkçe',\n",
       " 'ukrrock',\n",
       " 'unknown',\n",
       " 'urban',\n",
       " 'uzbek',\n",
       " 'variété',\n",
       " 'vi',\n",
       " 'videogame',\n",
       " 'vocal',\n",
       " 'western',\n",
       " 'world',\n",
       " 'worldbeat',\n",
       " 'ïîï',\n",
       " 'электроника']"
      ]
     },
     "execution_count": 17,
     "metadata": {},
     "output_type": "execute_result"
    }
   ],
   "source": [
    "# проверка на отсутствие неявных дубликатов\n",
    "sorted(df['genre'].unique())"
   ]
  },
  {
   "cell_type": "markdown",
   "metadata": {
    "deletable": false,
    "editable": false,
    "id": "jz6a9-7HQUDd"
   },
   "source": [
    "**Выводы**\n",
    "\n",
    "Предобработка обнаружила три проблемы в данных:\n",
    "\n",
    "- нарушения в стиле заголовков,\n",
    "- пропущенные значения,\n",
    "- дубликаты — явные и неявные.\n",
    "\n",
    "Вы исправили заголовки, чтобы упростить работу с таблицей. Без дубликатов исследование станет более точным.\n",
    "\n",
    "Пропущенные значения вы заменили на `'unknown'`. Ещё предстоит увидеть, не повредят ли исследованию пропуски в колонке `genre`.\n",
    "\n",
    "Теперь можно перейти к проверке гипотез."
   ]
  },
  {
   "cell_type": "markdown",
   "metadata": {
    "deletable": false,
    "editable": false,
    "id": "WttZHXH0SqKk"
   },
   "source": [
    "## Проверка гипотез"
   ]
  },
  {
   "cell_type": "markdown",
   "metadata": {
    "deletable": false,
    "editable": false,
    "id": "Im936VVi_Zcu"
   },
   "source": [
    "### Сравнение поведения пользователей двух столиц"
   ]
  },
  {
   "cell_type": "markdown",
   "metadata": {
    "deletable": false,
    "editable": false,
    "id": "nwt_MuaL_Zcu"
   },
   "source": [
    "Первая гипотеза утверждает, что пользователи по-разному слушают музыку в Москве и Санкт-Петербурге. Проверим это предположение по данным о трёх днях недели — понедельнике, среде и пятнице. Для этого:\n",
    "\n",
    "* Разделим пользователей Москвы и Санкт-Петербурга.\n",
    "* Сравним, сколько треков послушала каждая группа пользователей в понедельник, среду и пятницу.\n"
   ]
  },
  {
   "cell_type": "markdown",
   "metadata": {
    "deletable": false,
    "id": "8Dw_YMmT_Zcu",
    "tags": [
     "start_task"
    ]
   },
   "source": [
    "**Задание 18**\n",
    "\n"
   ]
  },
  {
   "cell_type": "code",
   "execution_count": 18,
   "metadata": {
    "deletable": false,
    "id": "0_Qs96oh_Zcu"
   },
   "outputs": [
    {
     "data": {
      "text/plain": [
       "city\n",
       "Moscow              42741\n",
       "Saint-Petersburg    18512\n",
       "Name: time, dtype: int64"
      ]
     },
     "execution_count": 18,
     "metadata": {},
     "output_type": "execute_result"
    }
   ],
   "source": [
    "# подсчёт прослушиваний в каждом городе\n",
    "df.groupby('city')['time'].count()"
   ]
  },
  {
   "cell_type": "markdown",
   "metadata": {
    "id": "dzli3w8o_Zcu",
    "tags": [
     "start_task"
    ]
   },
   "source": [
    "**Задание 19**\n"
   ]
  },
  {
   "cell_type": "code",
   "execution_count": 19,
   "metadata": {
    "deletable": false,
    "id": "uZMKjiJz_Zcu"
   },
   "outputs": [
    {
     "data": {
      "text/plain": [
       "day\n",
       "Friday       21840\n",
       "Monday       21354\n",
       "Wednesday    18059\n",
       "Name: time, dtype: int64"
      ]
     },
     "execution_count": 19,
     "metadata": {},
     "output_type": "execute_result"
    }
   ],
   "source": [
    "# подсчёт прослушиваний в каждый из трёх дней\n",
    "df.groupby('day')['time'].count()"
   ]
  },
  {
   "cell_type": "markdown",
   "metadata": {
    "deletable": false,
    "editable": false,
    "id": "POzs8bGa_Zcu",
    "tags": [
     "start_task"
    ]
   },
   "source": [
    "**Задание 20**"
   ]
  },
  {
   "cell_type": "code",
   "execution_count": 20,
   "metadata": {
    "deletable": false,
    "id": "Nz3GdQB1_Zcu"
   },
   "outputs": [],
   "source": [
    "def number_tracks(day, city):\n",
    "    track_list = df[df['day'] == day]\n",
    "    # выберите только строки df со значением переменной day в столбце day\n",
    "    track_list = track_list[track_list['city'] == city]\n",
    "    # выберите только строки track_list со значением переменной city в столбце city\n",
    "    track_list_count = track_list['user_id'].count()\n",
    "    # вызовите метод подсчета строк для track_list и выберите столбец user_id\n",
    "    return track_list_count\n",
    "    # верните значение track_list_count из функции"
   ]
  },
  {
   "cell_type": "markdown",
   "metadata": {
    "deletable": false,
    "editable": false,
    "id": "ytf7xFrFJQ2r",
    "tags": [
     "start_task"
    ]
   },
   "source": [
    "**Задание 21**"
   ]
  },
  {
   "cell_type": "code",
   "execution_count": 21,
   "metadata": {
    "deletable": false,
    "id": "rJcRATNQ_Zcu"
   },
   "outputs": [
    {
     "data": {
      "text/plain": [
       "15740"
      ]
     },
     "execution_count": 21,
     "metadata": {},
     "output_type": "execute_result"
    }
   ],
   "source": [
    "number_tracks('Monday', 'Moscow')\n",
    "# количество прослушиваний в Москве по понедельникам"
   ]
  },
  {
   "cell_type": "code",
   "execution_count": 22,
   "metadata": {
    "deletable": false,
    "id": "hq_ncZ5T_Zcu"
   },
   "outputs": [
    {
     "data": {
      "text/plain": [
       "5614"
      ]
     },
     "execution_count": 22,
     "metadata": {},
     "output_type": "execute_result"
    }
   ],
   "source": [
    "number_tracks('Monday', 'Saint-Petersburg')\n",
    "# количество прослушиваний в Санкт-Петербурге по понедельникам"
   ]
  },
  {
   "cell_type": "code",
   "execution_count": 23,
   "metadata": {
    "deletable": false,
    "id": "_NTy2VPU_Zcu"
   },
   "outputs": [
    {
     "data": {
      "text/plain": [
       "11056"
      ]
     },
     "execution_count": 23,
     "metadata": {},
     "output_type": "execute_result"
    }
   ],
   "source": [
    "number_tracks('Wednesday', 'Moscow')\n",
    "# количество прослушиваний в Москве по средам"
   ]
  },
  {
   "cell_type": "code",
   "execution_count": 24,
   "metadata": {
    "deletable": false,
    "id": "j2y3TAwo_Zcu"
   },
   "outputs": [
    {
     "data": {
      "text/plain": [
       "7003"
      ]
     },
     "execution_count": 24,
     "metadata": {},
     "output_type": "execute_result"
    }
   ],
   "source": [
    "number_tracks('Wednesday', 'Saint-Petersburg')\n",
    "# количество прослушиваний в Санкт-Петербурге по средам"
   ]
  },
  {
   "cell_type": "code",
   "execution_count": 25,
   "metadata": {
    "deletable": false,
    "id": "vYDw5u_K_Zcu"
   },
   "outputs": [
    {
     "data": {
      "text/plain": [
       "15945"
      ]
     },
     "execution_count": 25,
     "metadata": {},
     "output_type": "execute_result"
    }
   ],
   "source": [
    "number_tracks('Friday', 'Moscow')\n",
    "# количество прослушиваний в Москве по пятницам"
   ]
  },
  {
   "cell_type": "code",
   "execution_count": 26,
   "metadata": {
    "deletable": false,
    "id": "8_yzFtW3_Zcu"
   },
   "outputs": [
    {
     "data": {
      "text/plain": [
       "5895"
      ]
     },
     "execution_count": 26,
     "metadata": {},
     "output_type": "execute_result"
    }
   ],
   "source": [
    "number_tracks('Friday', 'Saint-Petersburg')\n",
    "# количество прослушиваний в Санкт-Петербурге по пятницам"
   ]
  },
  {
   "cell_type": "markdown",
   "metadata": {
    "deletable": false,
    "editable": false,
    "id": "7QXffbO-_Zcu",
    "tags": [
     "start_task"
    ]
   },
   "source": [
    "**Задание 22**"
   ]
  },
  {
   "cell_type": "code",
   "execution_count": 27,
   "metadata": {
    "deletable": false,
    "id": "APAcLpOr_Zcu"
   },
   "outputs": [
    {
     "data": {
      "text/html": [
       "<div>\n",
       "<style scoped>\n",
       "    .dataframe tbody tr th:only-of-type {\n",
       "        vertical-align: middle;\n",
       "    }\n",
       "\n",
       "    .dataframe tbody tr th {\n",
       "        vertical-align: top;\n",
       "    }\n",
       "\n",
       "    .dataframe thead th {\n",
       "        text-align: right;\n",
       "    }\n",
       "</style>\n",
       "<table border=\"1\" class=\"dataframe\">\n",
       "  <thead>\n",
       "    <tr style=\"text-align: right;\">\n",
       "      <th></th>\n",
       "      <th>city</th>\n",
       "      <th>monday</th>\n",
       "      <th>wednesday</th>\n",
       "      <th>friday</th>\n",
       "    </tr>\n",
       "  </thead>\n",
       "  <tbody>\n",
       "    <tr>\n",
       "      <th>0</th>\n",
       "      <td>Москва</td>\n",
       "      <td>15740</td>\n",
       "      <td>11056</td>\n",
       "      <td>15945</td>\n",
       "    </tr>\n",
       "    <tr>\n",
       "      <th>1</th>\n",
       "      <td>Санкт-Петербург</td>\n",
       "      <td>5614</td>\n",
       "      <td>7003</td>\n",
       "      <td>5895</td>\n",
       "    </tr>\n",
       "  </tbody>\n",
       "</table>\n",
       "</div>"
      ],
      "text/plain": [
       "              city  monday  wednesday  friday\n",
       "0           Москва   15740      11056   15945\n",
       "1  Санкт-Петербург    5614       7003    5895"
      ]
     },
     "execution_count": 27,
     "metadata": {},
     "output_type": "execute_result"
    }
   ],
   "source": [
    "# создание таблицы с результатами\n",
    "info = pd.DataFrame(data=[['Москва', number_tracks('Monday', 'Moscow'), \n",
    "                           number_tracks('Wednesday', 'Moscow'), \n",
    "                           number_tracks('Friday', 'Moscow')],\n",
    "                          \n",
    "                          ['Санкт-Петербург', number_tracks('Monday', 'Saint-Petersburg'), \n",
    "                           number_tracks('Wednesday', 'Saint-Petersburg'), \n",
    "                           number_tracks('Friday', 'Saint-Petersburg')]],\n",
    "                    \n",
    "                    columns=['city', 'monday', 'wednesday', 'friday'])\n",
    "# вывод таблицы на экран\n",
    "info"
   ]
  },
  {
   "cell_type": "markdown",
   "metadata": {
    "deletable": false,
    "editable": false,
    "id": "-EgPIHYu_Zcu"
   },
   "source": [
    "**Выводы**\n",
    "\n",
    "Данные показывают разницу поведения пользователей:\n",
    "\n",
    "- В Москве пик прослушиваний приходится на понедельник и пятницу, а в среду заметен спад.\n",
    "- В Петербурге, наоборот, больше слушают музыку по средам. Активность в понедельник и пятницу здесь почти в равной мере уступает среде.\n",
    "\n",
    "Значит, данные говорят в пользу первой гипотезы."
   ]
  },
  {
   "cell_type": "markdown",
   "metadata": {
    "deletable": false,
    "editable": false,
    "id": "atZAxtq4_Zcu"
   },
   "source": [
    "### Музыка в начале и в конце недели"
   ]
  },
  {
   "cell_type": "markdown",
   "metadata": {
    "deletable": false,
    "editable": false,
    "id": "eXrQqXFH_Zcu"
   },
   "source": [
    "Согласно второй гипотезе, утром в понедельник в Москве преобладают одни жанры, а в Петербурге — другие. Так же и вечером пятницы преобладают разные жанры — в зависимости от города."
   ]
  },
  {
   "cell_type": "markdown",
   "metadata": {
    "deletable": false,
    "editable": false,
    "id": "S8UcW6Hw_Zcu",
    "tags": [
     "start_task"
    ]
   },
   "source": [
    "**Задание 23**"
   ]
  },
  {
   "cell_type": "code",
   "execution_count": 28,
   "metadata": {
    "deletable": false,
    "id": "qeaFfM_P_Zcu"
   },
   "outputs": [],
   "source": [
    "# получение таблицы moscow_general из тех строк таблицы df, для которых значение в столбце 'city' равно 'Moscow'\n",
    "moscow_general = df[df['city'] == 'Moscow']"
   ]
  },
  {
   "cell_type": "code",
   "execution_count": 29,
   "metadata": {
    "deletable": false,
    "id": "ORaVRKto_Zcu"
   },
   "outputs": [],
   "source": [
    "# получение таблицы spb_general из тех строк таблицы df, для которых значение в столбце 'city' равно 'Saint-Petersburg'\n",
    "spb_general = df[df['city'] == 'Saint-Petersburg']"
   ]
  },
  {
   "cell_type": "markdown",
   "metadata": {
    "deletable": false,
    "editable": false,
    "id": "MEJV-CX2_Zcu",
    "tags": [
     "start_task"
    ]
   },
   "source": [
    "**Задание 24**"
   ]
  },
  {
   "cell_type": "code",
   "execution_count": 30,
   "metadata": {
    "deletable": false,
    "id": "laJT9BYl_Zcu"
   },
   "outputs": [],
   "source": [
    "def genre_weekday(df, day, time1, time2):\n",
    "    # последовательная фильтрация\n",
    "    # оставляем в genre_df только те строки df, у которых день равен day\n",
    "    genre_df = df[df['day'] == day]# ваш код здесь\n",
    "    # оставляем в genre_df только те строки genre_df, у которых время меньше time2\n",
    "    genre_df = genre_df[genre_df['time'] < time2]# ваш код здесь\n",
    "    # оставляем в genre_df только те строки genre_df, у которых время больше time1\n",
    "    genre_df = genre_df[genre_df['time'] > time1]# ваш код здесь\n",
    "    # сгруппируем отфильтрованный датафрейм по столбцу с названиями жанров, возьмём столбец genre и посчитаем кол-во строк для каждого жанра методом count()\n",
    "    genre_df_grouped = genre_df.groupby('genre')['genre'].count()# ваш код здесь\n",
    "    # отсортируем результат по убыванию (чтобы в начале Series оказались самые популярные жанры)\n",
    "    genre_df_sorted = genre_df_grouped.sort_values(ascending=False)# ваш код здесь\n",
    "    # вернём Series с 10 самыми популярными жанрами в указанный отрезок времени заданного дня\n",
    "    return genre_df_sorted[:10]"
   ]
  },
  {
   "cell_type": "markdown",
   "metadata": {
    "deletable": false,
    "editable": false,
    "id": "la2s2_PF_Zcu",
    "tags": [
     "start_task"
    ]
   },
   "source": [
    "**Задание 25**"
   ]
  },
  {
   "cell_type": "code",
   "execution_count": 31,
   "metadata": {
    "deletable": false,
    "id": "yz7itPUQ_Zcu"
   },
   "outputs": [
    {
     "data": {
      "text/plain": [
       "genre\n",
       "pop            781\n",
       "dance          549\n",
       "electronic     480\n",
       "rock           474\n",
       "hiphop         286\n",
       "ruspop         186\n",
       "world          181\n",
       "rusrap         175\n",
       "alternative    164\n",
       "unknown        161\n",
       "Name: genre, dtype: int64"
      ]
     },
     "execution_count": 31,
     "metadata": {},
     "output_type": "execute_result"
    }
   ],
   "source": [
    "genre_weekday(moscow_general, 'Monday', '07:00', '11:00')\n",
    "# вызов функции для утра понедельника в Москве (вместо df — таблица moscow_general)"
   ]
  },
  {
   "cell_type": "code",
   "execution_count": 32,
   "metadata": {
    "deletable": false,
    "id": "kwUcHPdy_Zcu"
   },
   "outputs": [
    {
     "data": {
      "text/plain": [
       "genre\n",
       "pop            218\n",
       "dance          182\n",
       "rock           162\n",
       "electronic     147\n",
       "hiphop          80\n",
       "ruspop          64\n",
       "alternative     58\n",
       "rusrap          55\n",
       "jazz            44\n",
       "classical       40\n",
       "Name: genre, dtype: int64"
      ]
     },
     "execution_count": 32,
     "metadata": {},
     "output_type": "execute_result"
    }
   ],
   "source": [
    "genre_weekday(spb_general, 'Monday', '07:00', '11:00')\n",
    "# вызов функции для утра понедельника в Петербурге (вместо df — таблица spb_general)"
   ]
  },
  {
   "cell_type": "code",
   "execution_count": 33,
   "metadata": {
    "deletable": false,
    "id": "EzXVRE1o_Zcu"
   },
   "outputs": [
    {
     "data": {
      "text/plain": [
       "genre\n",
       "pop            713\n",
       "rock           517\n",
       "dance          495\n",
       "electronic     482\n",
       "hiphop         273\n",
       "world          208\n",
       "ruspop         170\n",
       "alternative    163\n",
       "classical      163\n",
       "rusrap         142\n",
       "Name: genre, dtype: int64"
      ]
     },
     "execution_count": 33,
     "metadata": {},
     "output_type": "execute_result"
    }
   ],
   "source": [
    "genre_weekday(moscow_general, 'Friday', '17:00', '23:00')\n",
    "# вызов функции для вечера пятницы в Москве"
   ]
  },
  {
   "cell_type": "code",
   "execution_count": 34,
   "metadata": {
    "deletable": false,
    "id": "JZaEKu5v_Zcu"
   },
   "outputs": [
    {
     "data": {
      "text/plain": [
       "genre\n",
       "pop            256\n",
       "electronic     216\n",
       "rock           216\n",
       "dance          210\n",
       "hiphop          97\n",
       "alternative     63\n",
       "jazz            61\n",
       "classical       60\n",
       "rusrap          59\n",
       "world           54\n",
       "Name: genre, dtype: int64"
      ]
     },
     "execution_count": 34,
     "metadata": {},
     "output_type": "execute_result"
    }
   ],
   "source": [
    "genre_weekday(spb_general, 'Friday', '17:00', '23:00')\n",
    "# вызов функции для вечера пятницы в Петербурге"
   ]
  },
  {
   "cell_type": "markdown",
   "metadata": {
    "deletable": false,
    "editable": false,
    "id": "wrCe4MNX_Zcu"
   },
   "source": [
    "**Выводы**\n",
    "\n",
    "Если сравнить топ-10 жанров в понедельник утром, можно сделать такие выводы:\n",
    "\n",
    "1. В Москве и Петербурге слушают похожую музыку. Единственное различие — в московский рейтинг вошёл жанр “world”, а в петербургский — джаз и классика.\n",
    "\n",
    "2. В Москве пропущенных значений оказалось так много, что значение `'unknown'` заняло десятое место среди самых популярных жанров. Значит, пропущенные значения занимают существенную долю в данных и угрожают достоверности исследования.\n",
    "\n",
    "Вечер пятницы не меняет эту картину. Некоторые жанры поднимаются немного выше, другие спускаются, но в целом топ-10 остаётся тем же самым.\n",
    "\n",
    "Таким образом, вторая гипотеза подтвердилась лишь частично:\n",
    "* Пользователи слушают похожую музыку в начале недели и в конце.\n",
    "* Разница между Москвой и Петербургом не слишком выражена. В Москве чаще слушают русскую популярную музыку, в Петербурге — джаз.\n",
    "\n",
    "Однако пропуски в данных ставят под сомнение этот результат. В Москве их так много, что рейтинг топ-10 мог бы выглядеть иначе, если бы не утерянные  данные о жанрах."
   ]
  },
  {
   "cell_type": "markdown",
   "metadata": {
    "deletable": false,
    "editable": false,
    "id": "JolODAqr_Zcu"
   },
   "source": [
    "### Жанровые предпочтения в Москве и Петербурге\n",
    "\n",
    "Гипотеза: Петербург — столица рэпа, музыку этого жанра там слушают чаще, чем в Москве.  А Москва — город контрастов, в котором, тем не менее, преобладает поп-музыка."
   ]
  },
  {
   "cell_type": "markdown",
   "metadata": {
    "deletable": false,
    "editable": false,
    "id": "DlegSvaT_Zcu",
    "tags": [
     "start_task"
    ]
   },
   "source": [
    "**Задание 26**"
   ]
  },
  {
   "cell_type": "code",
   "execution_count": 35,
   "metadata": {
    "deletable": false,
    "id": "r19lIPke_Zcu"
   },
   "outputs": [],
   "source": [
    "# одной строкой: группировка таблицы moscow_general по столбцу 'genre', выбор столбца `genre`, подсчёт числа значений 'genre' методом count(), сохранение в moscow_genres\n",
    "moscow_genres = moscow_general.groupby('genre')['genre'].count()\n",
    "# сортировка получившегося Series в порядке убывания и сохранение обратно в moscow_genres\n",
    "moscow_genres = moscow_genres.sort_values(ascending=False)"
   ]
  },
  {
   "cell_type": "markdown",
   "metadata": {
    "deletable": false,
    "editable": false,
    "id": "6kMuomxTiIr8",
    "tags": [
     "start_task"
    ]
   },
   "source": [
    "**Задание 27**"
   ]
  },
  {
   "cell_type": "code",
   "execution_count": 39,
   "metadata": {
    "deletable": false,
    "id": "WhCSooF8_Zcv"
   },
   "outputs": [
    {
     "data": {
      "text/plain": [
       "genre\n",
       "pop            5892\n",
       "dance          4435\n",
       "rock           3965\n",
       "electronic     3786\n",
       "hiphop         2096\n",
       "classical      1616\n",
       "world          1432\n",
       "alternative    1379\n",
       "ruspop         1372\n",
       "rusrap         1161\n",
       "Name: genre, dtype: int64"
      ]
     },
     "execution_count": 39,
     "metadata": {},
     "output_type": "execute_result"
    }
   ],
   "source": [
    "# просмотр первых 10 строк moscow_genres\n",
    "moscow_genres.head(10)"
   ]
  },
  {
   "cell_type": "markdown",
   "metadata": {
    "deletable": false,
    "editable": false,
    "id": "cnPG2vnN_Zcv",
    "tags": [
     "start_task"
    ]
   },
   "source": [
    "**Задание 28**"
   ]
  },
  {
   "cell_type": "code",
   "execution_count": 41,
   "metadata": {
    "deletable": false,
    "id": "gluLIpE7_Zcv"
   },
   "outputs": [],
   "source": [
    "# одной строкой: группировка таблицы spb_general по столбцу 'genre', выбор столбца `genre`, подсчёт числа значений 'genre' методом count(), сохранение в spb_genres\n",
    "spb_genres = spb_general.groupby('genre')['genre'].count()\n",
    "# сортировка получившегося Series в порядке убывания и сохранение обратно в spb_genres\n",
    "spb_genres = spb_genres.sort_values(ascending=False)"
   ]
  },
  {
   "cell_type": "markdown",
   "metadata": {
    "deletable": false,
    "editable": false,
    "id": "5Doha_ODgyQ8",
    "tags": [
     "start_task"
    ]
   },
   "source": [
    "**Задание 29**"
   ]
  },
  {
   "cell_type": "code",
   "execution_count": 42,
   "metadata": {
    "deletable": false,
    "id": "uaGJHjVU_Zcv"
   },
   "outputs": [
    {
     "data": {
      "text/plain": [
       "genre\n",
       "pop            2431\n",
       "dance          1932\n",
       "rock           1879\n",
       "electronic     1736\n",
       "hiphop          960\n",
       "alternative     649\n",
       "classical       646\n",
       "rusrap          564\n",
       "ruspop          538\n",
       "world           515\n",
       "Name: genre, dtype: int64"
      ]
     },
     "execution_count": 42,
     "metadata": {},
     "output_type": "execute_result"
    }
   ],
   "source": [
    "# просмотр первых 10 строк spb_genres\n",
    "spb_genres.head(10)"
   ]
  },
  {
   "cell_type": "markdown",
   "metadata": {
    "deletable": false,
    "editable": false,
    "id": "RY51YJYu_Zcv"
   },
   "source": [
    "**Выводы**"
   ]
  },
  {
   "cell_type": "markdown",
   "metadata": {
    "deletable": false,
    "editable": false,
    "id": "nVhnJEm__Zcv"
   },
   "source": [
    "Гипотеза частично подтвердилась:\n",
    "* Поп-музыка — самый популярный жанр в Москве, как и предполагала гипотеза. Более того, в топ-10 жанров встречается близкий жанр — русская популярная музыка.\n",
    "* Вопреки ожиданиям, рэп одинаково популярен в Москве и Петербурге.\n"
   ]
  },
  {
   "cell_type": "markdown",
   "metadata": {
    "deletable": false,
    "editable": false,
    "id": "ykKQ0N65_Zcv"
   },
   "source": [
    "## Итоги исследования"
   ]
  },
  {
   "cell_type": "markdown",
   "metadata": {
    "deletable": false,
    "editable": false,
    "id": "tjUwbHb3_Zcv"
   },
   "source": [
    "Вы проверили три гипотезы и установили:\n",
    "\n",
    "1. День недели по-разному влияет на активность пользователей в Москве и Петербурге.\n",
    "\n",
    "Первая гипотеза полностью подтвердилась.\n",
    "\n",
    "2. Музыкальные предпочтения не сильно меняются в течение недели — будь то Москва или Петербург. Небольшие различия заметны в начале недели, по понедельникам:\n",
    "* в Москве слушают музыку жанра “world”,\n",
    "* в Петербурге — джаз и классику.\n",
    "\n",
    "Таким образом, вторая гипотеза подтвердилась лишь отчасти. Этот результат мог оказаться иным, если бы не пропуски в данных.\n",
    "\n",
    "3. Во вкусах пользователей Москвы и Петербурга больше общего, чем различий. Вопреки ожиданиям, предпочтения жанров в Петербурге напоминают московские.\n",
    "\n",
    "Третья гипотеза не подтвердилась. Если различия в предпочтениях и существуют, на основной массе пользователей они незаметны.\n",
    "\n",
    "**На практике исследования содержат проверки статистических гипотез.**\n",
    "Из части данных одного сервиса невозможно сделать какие-то выводы о всех пользователях сервиса без методов статистики.\n",
    "Проверки статистических гипотез покажут, насколько они достоверны, исходя из имеющихся данных.\n",
    "С методами проверок гипотез вы ещё познакомитесь в следующих темах."
   ]
  }
 ],
 "metadata": {
  "ExecuteTimeLog": [
   {
    "duration": 129,
    "start_time": "2024-06-16T16:24:06.304Z"
   },
   {
    "duration": 441,
    "start_time": "2024-06-16T16:24:29.343Z"
   },
   {
    "duration": 108,
    "start_time": "2024-06-16T16:24:29.787Z"
   },
   {
    "duration": 0,
    "start_time": "2024-06-16T16:24:29.899Z"
   },
   {
    "duration": 0,
    "start_time": "2024-06-16T16:24:29.901Z"
   },
   {
    "duration": 0,
    "start_time": "2024-06-16T16:24:29.903Z"
   },
   {
    "duration": 0,
    "start_time": "2024-06-16T16:24:29.904Z"
   },
   {
    "duration": 0,
    "start_time": "2024-06-16T16:24:29.906Z"
   },
   {
    "duration": 0,
    "start_time": "2024-06-16T16:24:29.907Z"
   },
   {
    "duration": 0,
    "start_time": "2024-06-16T16:24:29.908Z"
   },
   {
    "duration": 0,
    "start_time": "2024-06-16T16:24:29.910Z"
   },
   {
    "duration": 0,
    "start_time": "2024-06-16T16:24:29.911Z"
   },
   {
    "duration": 0,
    "start_time": "2024-06-16T16:24:29.912Z"
   },
   {
    "duration": 0,
    "start_time": "2024-06-16T16:24:29.913Z"
   },
   {
    "duration": 0,
    "start_time": "2024-06-16T16:24:29.915Z"
   },
   {
    "duration": 0,
    "start_time": "2024-06-16T16:24:29.916Z"
   },
   {
    "duration": 0,
    "start_time": "2024-06-16T16:24:29.917Z"
   },
   {
    "duration": 0,
    "start_time": "2024-06-16T16:24:29.918Z"
   },
   {
    "duration": 0,
    "start_time": "2024-06-16T16:24:29.920Z"
   },
   {
    "duration": 0,
    "start_time": "2024-06-16T16:24:29.921Z"
   },
   {
    "duration": 0,
    "start_time": "2024-06-16T16:24:29.922Z"
   },
   {
    "duration": 0,
    "start_time": "2024-06-16T16:24:29.922Z"
   },
   {
    "duration": 0,
    "start_time": "2024-06-16T16:24:29.924Z"
   },
   {
    "duration": 0,
    "start_time": "2024-06-16T16:24:29.925Z"
   },
   {
    "duration": 0,
    "start_time": "2024-06-16T16:24:29.926Z"
   },
   {
    "duration": 0,
    "start_time": "2024-06-16T16:24:29.928Z"
   },
   {
    "duration": 0,
    "start_time": "2024-06-16T16:24:29.929Z"
   },
   {
    "duration": 0,
    "start_time": "2024-06-16T16:24:29.930Z"
   },
   {
    "duration": 0,
    "start_time": "2024-06-16T16:24:29.931Z"
   },
   {
    "duration": 0,
    "start_time": "2024-06-16T16:24:29.932Z"
   },
   {
    "duration": 0,
    "start_time": "2024-06-16T16:24:29.933Z"
   },
   {
    "duration": 0,
    "start_time": "2024-06-16T16:24:29.995Z"
   },
   {
    "duration": 0,
    "start_time": "2024-06-16T16:24:29.996Z"
   },
   {
    "duration": 0,
    "start_time": "2024-06-16T16:24:29.998Z"
   },
   {
    "duration": 0,
    "start_time": "2024-06-16T16:24:29.999Z"
   },
   {
    "duration": 0,
    "start_time": "2024-06-16T16:24:30.001Z"
   },
   {
    "duration": 0,
    "start_time": "2024-06-16T16:24:30.002Z"
   },
   {
    "duration": 0,
    "start_time": "2024-06-16T16:24:30.002Z"
   },
   {
    "duration": 0,
    "start_time": "2024-06-16T16:24:30.003Z"
   },
   {
    "duration": 6,
    "start_time": "2024-06-16T16:24:39.905Z"
   },
   {
    "duration": 459,
    "start_time": "2024-06-16T16:25:33.891Z"
   },
   {
    "duration": 113,
    "start_time": "2024-06-16T16:25:34.352Z"
   },
   {
    "duration": 0,
    "start_time": "2024-06-16T16:25:34.469Z"
   },
   {
    "duration": 0,
    "start_time": "2024-06-16T16:25:34.470Z"
   },
   {
    "duration": 0,
    "start_time": "2024-06-16T16:25:34.472Z"
   },
   {
    "duration": 0,
    "start_time": "2024-06-16T16:25:34.474Z"
   },
   {
    "duration": 0,
    "start_time": "2024-06-16T16:25:34.475Z"
   },
   {
    "duration": 0,
    "start_time": "2024-06-16T16:25:34.476Z"
   },
   {
    "duration": 0,
    "start_time": "2024-06-16T16:25:34.478Z"
   },
   {
    "duration": 0,
    "start_time": "2024-06-16T16:25:34.479Z"
   },
   {
    "duration": 0,
    "start_time": "2024-06-16T16:25:34.481Z"
   },
   {
    "duration": 0,
    "start_time": "2024-06-16T16:25:34.492Z"
   },
   {
    "duration": 0,
    "start_time": "2024-06-16T16:25:34.494Z"
   },
   {
    "duration": 0,
    "start_time": "2024-06-16T16:25:34.495Z"
   },
   {
    "duration": 0,
    "start_time": "2024-06-16T16:25:34.497Z"
   },
   {
    "duration": 0,
    "start_time": "2024-06-16T16:25:34.498Z"
   },
   {
    "duration": 0,
    "start_time": "2024-06-16T16:25:34.499Z"
   },
   {
    "duration": 0,
    "start_time": "2024-06-16T16:25:34.501Z"
   },
   {
    "duration": 0,
    "start_time": "2024-06-16T16:25:34.502Z"
   },
   {
    "duration": 0,
    "start_time": "2024-06-16T16:25:34.503Z"
   },
   {
    "duration": 0,
    "start_time": "2024-06-16T16:25:34.504Z"
   },
   {
    "duration": 0,
    "start_time": "2024-06-16T16:25:34.505Z"
   },
   {
    "duration": 0,
    "start_time": "2024-06-16T16:25:34.507Z"
   },
   {
    "duration": 0,
    "start_time": "2024-06-16T16:25:34.508Z"
   },
   {
    "duration": 0,
    "start_time": "2024-06-16T16:25:34.509Z"
   },
   {
    "duration": 0,
    "start_time": "2024-06-16T16:25:34.510Z"
   },
   {
    "duration": 0,
    "start_time": "2024-06-16T16:25:34.511Z"
   },
   {
    "duration": 0,
    "start_time": "2024-06-16T16:25:34.512Z"
   },
   {
    "duration": 0,
    "start_time": "2024-06-16T16:25:34.513Z"
   },
   {
    "duration": 0,
    "start_time": "2024-06-16T16:25:34.514Z"
   },
   {
    "duration": 0,
    "start_time": "2024-06-16T16:25:34.516Z"
   },
   {
    "duration": 0,
    "start_time": "2024-06-16T16:25:34.517Z"
   },
   {
    "duration": 0,
    "start_time": "2024-06-16T16:25:34.519Z"
   },
   {
    "duration": 0,
    "start_time": "2024-06-16T16:25:34.520Z"
   },
   {
    "duration": 0,
    "start_time": "2024-06-16T16:25:34.521Z"
   },
   {
    "duration": 0,
    "start_time": "2024-06-16T16:25:34.522Z"
   },
   {
    "duration": 0,
    "start_time": "2024-06-16T16:25:34.524Z"
   },
   {
    "duration": 0,
    "start_time": "2024-06-16T16:25:34.525Z"
   },
   {
    "duration": 368,
    "start_time": "2024-06-16T16:30:03.542Z"
   },
   {
    "duration": 269,
    "start_time": "2024-06-16T16:30:03.912Z"
   },
   {
    "duration": 18,
    "start_time": "2024-06-16T16:30:04.183Z"
   },
   {
    "duration": 3,
    "start_time": "2024-06-16T16:30:04.203Z"
   },
   {
    "duration": 16,
    "start_time": "2024-06-16T16:30:04.207Z"
   },
   {
    "duration": 16,
    "start_time": "2024-06-16T16:30:04.225Z"
   },
   {
    "duration": 5,
    "start_time": "2024-06-16T16:30:04.244Z"
   },
   {
    "duration": 4,
    "start_time": "2024-06-16T16:30:04.251Z"
   },
   {
    "duration": 5,
    "start_time": "2024-06-16T16:30:04.256Z"
   },
   {
    "duration": 4,
    "start_time": "2024-06-16T16:30:04.265Z"
   },
   {
    "duration": 19,
    "start_time": "2024-06-16T16:30:04.271Z"
   },
   {
    "duration": 32,
    "start_time": "2024-06-16T16:30:04.292Z"
   },
   {
    "duration": 17,
    "start_time": "2024-06-16T16:30:04.326Z"
   },
   {
    "duration": 18,
    "start_time": "2024-06-16T16:30:04.345Z"
   },
   {
    "duration": 9,
    "start_time": "2024-06-16T16:30:04.365Z"
   },
   {
    "duration": 19,
    "start_time": "2024-06-16T16:30:04.375Z"
   },
   {
    "duration": 29,
    "start_time": "2024-06-16T16:30:04.396Z"
   },
   {
    "duration": 12,
    "start_time": "2024-06-16T16:30:04.427Z"
   },
   {
    "duration": 9,
    "start_time": "2024-06-16T16:30:04.441Z"
   },
   {
    "duration": 54,
    "start_time": "2024-06-16T16:30:04.452Z"
   },
   {
    "duration": 0,
    "start_time": "2024-06-16T16:30:04.508Z"
   },
   {
    "duration": 0,
    "start_time": "2024-06-16T16:30:04.509Z"
   },
   {
    "duration": 0,
    "start_time": "2024-06-16T16:30:04.511Z"
   },
   {
    "duration": 0,
    "start_time": "2024-06-16T16:30:04.512Z"
   },
   {
    "duration": 0,
    "start_time": "2024-06-16T16:30:04.514Z"
   },
   {
    "duration": 0,
    "start_time": "2024-06-16T16:30:04.515Z"
   },
   {
    "duration": 0,
    "start_time": "2024-06-16T16:30:04.516Z"
   },
   {
    "duration": 0,
    "start_time": "2024-06-16T16:30:04.517Z"
   },
   {
    "duration": 0,
    "start_time": "2024-06-16T16:30:04.518Z"
   },
   {
    "duration": 1,
    "start_time": "2024-06-16T16:30:04.519Z"
   },
   {
    "duration": 0,
    "start_time": "2024-06-16T16:30:04.522Z"
   },
   {
    "duration": 0,
    "start_time": "2024-06-16T16:30:04.523Z"
   },
   {
    "duration": 0,
    "start_time": "2024-06-16T16:30:04.524Z"
   },
   {
    "duration": 0,
    "start_time": "2024-06-16T16:30:04.525Z"
   },
   {
    "duration": 0,
    "start_time": "2024-06-16T16:30:04.527Z"
   },
   {
    "duration": 0,
    "start_time": "2024-06-16T16:30:04.528Z"
   },
   {
    "duration": 0,
    "start_time": "2024-06-16T16:30:04.529Z"
   },
   {
    "duration": 0,
    "start_time": "2024-06-16T16:30:04.530Z"
   },
   {
    "duration": 11,
    "start_time": "2024-06-16T16:30:22.053Z"
   },
   {
    "duration": 11,
    "start_time": "2024-06-16T16:30:55.152Z"
   },
   {
    "duration": 33,
    "start_time": "2024-06-16T16:31:49.917Z"
   },
   {
    "duration": 6,
    "start_time": "2024-06-16T16:41:47.094Z"
   },
   {
    "duration": 23,
    "start_time": "2024-06-16T16:45:57.961Z"
   },
   {
    "duration": 4,
    "start_time": "2024-06-16T16:49:19.649Z"
   },
   {
    "duration": 11,
    "start_time": "2024-06-16T16:49:34.561Z"
   },
   {
    "duration": 4,
    "start_time": "2024-06-16T16:49:38.739Z"
   },
   {
    "duration": 29,
    "start_time": "2024-06-16T16:51:14.278Z"
   },
   {
    "duration": 43,
    "start_time": "2024-06-16T16:53:46.855Z"
   },
   {
    "duration": 76,
    "start_time": "2024-06-16T16:54:00.330Z"
   },
   {
    "duration": 36,
    "start_time": "2024-06-16T16:54:06.268Z"
   },
   {
    "duration": 31,
    "start_time": "2024-06-16T16:54:17.693Z"
   },
   {
    "duration": 68,
    "start_time": "2024-06-16T16:55:54.176Z"
   },
   {
    "duration": 81,
    "start_time": "2024-06-16T16:56:21.213Z"
   },
   {
    "duration": 63,
    "start_time": "2024-06-16T16:56:30.398Z"
   },
   {
    "duration": 9,
    "start_time": "2024-06-16T16:58:12.394Z"
   },
   {
    "duration": 49,
    "start_time": "2024-06-17T16:26:29.720Z"
   },
   {
    "duration": 422,
    "start_time": "2024-06-17T16:26:38.757Z"
   },
   {
    "duration": 477,
    "start_time": "2024-06-17T16:26:39.181Z"
   },
   {
    "duration": 18,
    "start_time": "2024-06-17T16:26:39.659Z"
   },
   {
    "duration": 44,
    "start_time": "2024-06-17T16:26:39.680Z"
   },
   {
    "duration": 2,
    "start_time": "2024-06-17T16:26:39.726Z"
   },
   {
    "duration": 32,
    "start_time": "2024-06-17T16:26:39.730Z"
   },
   {
    "duration": 13,
    "start_time": "2024-06-17T16:26:39.764Z"
   },
   {
    "duration": 6,
    "start_time": "2024-06-17T16:26:39.779Z"
   },
   {
    "duration": 30,
    "start_time": "2024-06-17T16:26:39.787Z"
   },
   {
    "duration": 73,
    "start_time": "2024-06-17T16:26:39.820Z"
   },
   {
    "duration": 45,
    "start_time": "2024-06-17T16:26:39.895Z"
   },
   {
    "duration": 82,
    "start_time": "2024-06-17T16:26:39.942Z"
   },
   {
    "duration": 110,
    "start_time": "2024-06-17T16:26:40.025Z"
   },
   {
    "duration": 70,
    "start_time": "2024-06-17T16:26:40.136Z"
   },
   {
    "duration": 6,
    "start_time": "2024-06-17T16:26:40.208Z"
   },
   {
    "duration": 22,
    "start_time": "2024-06-17T16:26:40.215Z"
   },
   {
    "duration": 4,
    "start_time": "2024-06-17T16:26:40.238Z"
   },
   {
    "duration": 5,
    "start_time": "2024-06-17T16:26:40.244Z"
   },
   {
    "duration": 3,
    "start_time": "2024-06-17T16:26:40.250Z"
   },
   {
    "duration": 56,
    "start_time": "2024-06-17T16:26:40.255Z"
   },
   {
    "duration": 0,
    "start_time": "2024-06-17T16:26:40.313Z"
   },
   {
    "duration": 0,
    "start_time": "2024-06-17T16:26:40.315Z"
   },
   {
    "duration": 0,
    "start_time": "2024-06-17T16:26:40.316Z"
   },
   {
    "duration": 0,
    "start_time": "2024-06-17T16:26:40.317Z"
   },
   {
    "duration": 0,
    "start_time": "2024-06-17T16:26:40.318Z"
   },
   {
    "duration": 0,
    "start_time": "2024-06-17T16:26:40.319Z"
   },
   {
    "duration": 0,
    "start_time": "2024-06-17T16:26:40.321Z"
   },
   {
    "duration": 0,
    "start_time": "2024-06-17T16:26:40.322Z"
   },
   {
    "duration": 0,
    "start_time": "2024-06-17T16:26:40.324Z"
   },
   {
    "duration": 0,
    "start_time": "2024-06-17T16:26:40.325Z"
   },
   {
    "duration": 0,
    "start_time": "2024-06-17T16:26:40.327Z"
   },
   {
    "duration": 0,
    "start_time": "2024-06-17T16:26:40.328Z"
   },
   {
    "duration": 0,
    "start_time": "2024-06-17T16:26:40.329Z"
   },
   {
    "duration": 0,
    "start_time": "2024-06-17T16:26:40.331Z"
   },
   {
    "duration": 0,
    "start_time": "2024-06-17T16:26:40.332Z"
   },
   {
    "duration": 0,
    "start_time": "2024-06-17T16:26:40.334Z"
   },
   {
    "duration": 0,
    "start_time": "2024-06-17T16:26:40.335Z"
   },
   {
    "duration": 0,
    "start_time": "2024-06-17T16:26:40.336Z"
   },
   {
    "duration": 6,
    "start_time": "2024-06-17T16:26:53.748Z"
   },
   {
    "duration": 68,
    "start_time": "2024-06-17T16:27:05.335Z"
   },
   {
    "duration": 6,
    "start_time": "2024-06-17T16:27:09.252Z"
   },
   {
    "duration": 10,
    "start_time": "2024-06-17T16:27:19.640Z"
   },
   {
    "duration": 54,
    "start_time": "2024-06-17T16:30:20.034Z"
   },
   {
    "duration": 55,
    "start_time": "2024-06-17T16:30:54.901Z"
   },
   {
    "duration": 101,
    "start_time": "2024-06-17T16:33:58.705Z"
   },
   {
    "duration": 11,
    "start_time": "2024-06-17T16:37:03.032Z"
   },
   {
    "duration": 11,
    "start_time": "2024-06-17T16:42:54.234Z"
   },
   {
    "duration": 11,
    "start_time": "2024-06-17T16:43:20.694Z"
   },
   {
    "duration": 12,
    "start_time": "2024-06-17T16:43:42.258Z"
   },
   {
    "duration": 25,
    "start_time": "2024-06-17T16:44:56.036Z"
   },
   {
    "duration": 13,
    "start_time": "2024-06-17T16:45:31.207Z"
   },
   {
    "duration": 11,
    "start_time": "2024-06-17T16:45:45.395Z"
   },
   {
    "duration": 11,
    "start_time": "2024-06-17T17:07:27.703Z"
   },
   {
    "duration": 12,
    "start_time": "2024-06-17T17:07:34.301Z"
   },
   {
    "duration": 1044,
    "start_time": "2024-06-17T17:07:47.466Z"
   },
   {
    "duration": 15,
    "start_time": "2024-06-17T17:08:13.640Z"
   },
   {
    "duration": 151,
    "start_time": "2024-06-17T17:10:15.320Z"
   },
   {
    "duration": 11,
    "start_time": "2024-06-17T17:10:36.223Z"
   },
   {
    "duration": 12,
    "start_time": "2024-06-17T17:12:52.416Z"
   },
   {
    "duration": 14,
    "start_time": "2024-06-17T17:13:03.148Z"
   },
   {
    "duration": 10,
    "start_time": "2024-06-17T17:13:28.570Z"
   },
   {
    "duration": 11,
    "start_time": "2024-06-17T17:14:44.849Z"
   },
   {
    "duration": 16,
    "start_time": "2024-06-17T17:15:57.694Z"
   },
   {
    "duration": 8,
    "start_time": "2024-06-17T17:19:35.370Z"
   },
   {
    "duration": 17,
    "start_time": "2024-06-17T17:21:49.839Z"
   },
   {
    "duration": 17,
    "start_time": "2024-06-17T17:21:57.614Z"
   },
   {
    "duration": 11,
    "start_time": "2024-06-17T17:22:09.451Z"
   },
   {
    "duration": 36,
    "start_time": "2024-06-17T17:23:00.044Z"
   },
   {
    "duration": 14,
    "start_time": "2024-06-17T17:23:02.321Z"
   },
   {
    "duration": 31,
    "start_time": "2024-06-17T17:24:07.687Z"
   },
   {
    "duration": 10,
    "start_time": "2024-06-17T17:24:10.121Z"
   },
   {
    "duration": 10,
    "start_time": "2024-06-17T17:24:29.560Z"
   },
   {
    "duration": 27,
    "start_time": "2024-06-17T17:26:07.783Z"
   },
   {
    "duration": 30,
    "start_time": "2024-06-17T17:26:47.326Z"
   },
   {
    "duration": 14,
    "start_time": "2024-06-17T17:26:49.297Z"
   },
   {
    "duration": 11,
    "start_time": "2024-06-17T17:26:56.255Z"
   },
   {
    "duration": 24,
    "start_time": "2024-06-17T17:27:44.019Z"
   },
   {
    "duration": 12,
    "start_time": "2024-06-17T17:27:48.060Z"
   },
   {
    "duration": 15,
    "start_time": "2024-06-17T17:27:55.660Z"
   },
   {
    "duration": 32,
    "start_time": "2024-06-17T17:28:57.202Z"
   },
   {
    "duration": 12,
    "start_time": "2024-06-17T17:28:59.824Z"
   },
   {
    "duration": 153,
    "start_time": "2024-06-17T17:29:32.526Z"
   },
   {
    "duration": 10,
    "start_time": "2024-06-17T17:29:34.751Z"
   },
   {
    "duration": 11,
    "start_time": "2024-06-17T17:48:17.070Z"
   },
   {
    "duration": 16,
    "start_time": "2024-06-17T17:48:20.133Z"
   },
   {
    "duration": 13,
    "start_time": "2024-06-17T17:54:51.941Z"
   },
   {
    "duration": 321,
    "start_time": "2024-06-17T17:55:09.302Z"
   },
   {
    "duration": 15,
    "start_time": "2024-06-17T17:55:53.444Z"
   },
   {
    "duration": 21,
    "start_time": "2024-06-17T17:57:23.055Z"
   },
   {
    "duration": 5,
    "start_time": "2024-06-17T18:05:13.490Z"
   },
   {
    "duration": 20,
    "start_time": "2024-06-17T18:05:39.348Z"
   },
   {
    "duration": 25,
    "start_time": "2024-06-17T18:06:29.097Z"
   },
   {
    "duration": 16,
    "start_time": "2024-06-17T18:06:30.952Z"
   },
   {
    "duration": 16,
    "start_time": "2024-06-17T18:06:32.702Z"
   },
   {
    "duration": 19,
    "start_time": "2024-06-17T18:06:34.393Z"
   },
   {
    "duration": 17,
    "start_time": "2024-06-17T18:06:36.254Z"
   },
   {
    "duration": 73,
    "start_time": "2024-06-17T18:11:03.322Z"
   },
   {
    "duration": 82,
    "start_time": "2024-06-17T18:11:25.527Z"
   },
   {
    "duration": 78,
    "start_time": "2024-06-17T18:11:41.906Z"
   },
   {
    "duration": 80,
    "start_time": "2024-06-17T18:11:51.070Z"
   },
   {
    "duration": 11,
    "start_time": "2024-06-17T18:14:04.888Z"
   },
   {
    "duration": 13,
    "start_time": "2024-06-17T18:14:06.581Z"
   },
   {
    "duration": 5,
    "start_time": "2024-06-17T18:26:12.684Z"
   },
   {
    "duration": 4,
    "start_time": "2024-06-17T18:27:24.586Z"
   },
   {
    "duration": 26,
    "start_time": "2024-06-17T18:34:49.898Z"
   },
   {
    "duration": 7,
    "start_time": "2024-06-17T18:34:51.431Z"
   },
   {
    "duration": 61,
    "start_time": "2024-06-17T18:36:09.936Z"
   },
   {
    "duration": 24,
    "start_time": "2024-06-17T18:36:23.949Z"
   },
   {
    "duration": 4,
    "start_time": "2024-06-17T18:37:27.380Z"
   },
   {
    "duration": 27,
    "start_time": "2024-06-17T18:37:31.151Z"
   },
   {
    "duration": 7,
    "start_time": "2024-06-17T18:37:35.759Z"
   },
   {
    "duration": 14,
    "start_time": "2024-06-17T18:37:49.861Z"
   },
   {
    "duration": 12,
    "start_time": "2024-06-17T18:38:01.948Z"
   },
   {
    "duration": 22,
    "start_time": "2024-06-17T18:38:06.904Z"
   },
   {
    "duration": 15,
    "start_time": "2024-06-17T18:38:08.947Z"
   },
   {
    "duration": 13,
    "start_time": "2024-06-17T18:46:08.766Z"
   },
   {
    "duration": 455,
    "start_time": "2024-06-17T18:46:26.055Z"
   },
   {
    "duration": 214,
    "start_time": "2024-06-17T18:46:26.511Z"
   },
   {
    "duration": 19,
    "start_time": "2024-06-17T18:46:26.726Z"
   },
   {
    "duration": 42,
    "start_time": "2024-06-17T18:46:26.747Z"
   },
   {
    "duration": 2,
    "start_time": "2024-06-17T18:46:26.792Z"
   },
   {
    "duration": 5,
    "start_time": "2024-06-17T18:46:26.796Z"
   },
   {
    "duration": 13,
    "start_time": "2024-06-17T18:46:26.803Z"
   },
   {
    "duration": 6,
    "start_time": "2024-06-17T18:46:26.818Z"
   },
   {
    "duration": 58,
    "start_time": "2024-06-17T18:46:26.826Z"
   },
   {
    "duration": 52,
    "start_time": "2024-06-17T18:46:26.886Z"
   },
   {
    "duration": 35,
    "start_time": "2024-06-17T18:46:26.939Z"
   },
   {
    "duration": 91,
    "start_time": "2024-06-17T18:46:26.976Z"
   },
   {
    "duration": 125,
    "start_time": "2024-06-17T18:46:27.069Z"
   },
   {
    "duration": 69,
    "start_time": "2024-06-17T18:46:27.198Z"
   },
   {
    "duration": 10,
    "start_time": "2024-06-17T18:46:27.268Z"
   },
   {
    "duration": 12,
    "start_time": "2024-06-17T18:46:27.280Z"
   },
   {
    "duration": 20,
    "start_time": "2024-06-17T18:46:27.293Z"
   },
   {
    "duration": 12,
    "start_time": "2024-06-17T18:46:27.314Z"
   },
   {
    "duration": 36,
    "start_time": "2024-06-17T18:46:27.328Z"
   },
   {
    "duration": 3,
    "start_time": "2024-06-17T18:46:27.366Z"
   },
   {
    "duration": 31,
    "start_time": "2024-06-17T18:46:27.371Z"
   },
   {
    "duration": 17,
    "start_time": "2024-06-17T18:46:27.403Z"
   },
   {
    "duration": 16,
    "start_time": "2024-06-17T18:46:27.421Z"
   },
   {
    "duration": 44,
    "start_time": "2024-06-17T18:46:27.438Z"
   },
   {
    "duration": 17,
    "start_time": "2024-06-17T18:46:27.484Z"
   },
   {
    "duration": 15,
    "start_time": "2024-06-17T18:46:27.503Z"
   },
   {
    "duration": 88,
    "start_time": "2024-06-17T18:46:27.519Z"
   },
   {
    "duration": 11,
    "start_time": "2024-06-17T18:46:27.609Z"
   },
   {
    "duration": 24,
    "start_time": "2024-06-17T18:46:27.622Z"
   },
   {
    "duration": 26,
    "start_time": "2024-06-17T18:46:27.648Z"
   },
   {
    "duration": 45,
    "start_time": "2024-06-17T18:46:27.675Z"
   },
   {
    "duration": 12,
    "start_time": "2024-06-17T18:46:27.722Z"
   },
   {
    "duration": 56,
    "start_time": "2024-06-17T18:46:27.736Z"
   },
   {
    "duration": 14,
    "start_time": "2024-06-17T18:46:27.794Z"
   },
   {
    "duration": 81,
    "start_time": "2024-06-17T18:46:27.810Z"
   },
   {
    "duration": 0,
    "start_time": "2024-06-17T18:46:27.893Z"
   },
   {
    "duration": 0,
    "start_time": "2024-06-17T18:46:27.894Z"
   },
   {
    "duration": 0,
    "start_time": "2024-06-17T18:46:27.896Z"
   },
   {
    "duration": 8,
    "start_time": "2024-06-17T18:46:31.027Z"
   },
   {
    "duration": 9,
    "start_time": "2024-06-17T18:48:28.994Z"
   },
   {
    "duration": 8,
    "start_time": "2024-06-17T18:48:41.078Z"
   },
   {
    "duration": 8,
    "start_time": "2024-06-17T18:49:45.165Z"
   },
   {
    "duration": 8,
    "start_time": "2024-06-17T18:50:36.861Z"
   },
   {
    "duration": 421,
    "start_time": "2024-06-17T18:50:44.767Z"
   },
   {
    "duration": 193,
    "start_time": "2024-06-17T18:50:45.191Z"
   },
   {
    "duration": 17,
    "start_time": "2024-06-17T18:50:45.385Z"
   },
   {
    "duration": 35,
    "start_time": "2024-06-17T18:50:45.404Z"
   },
   {
    "duration": 59,
    "start_time": "2024-06-17T18:50:45.441Z"
   },
   {
    "duration": 18,
    "start_time": "2024-06-17T18:50:45.502Z"
   },
   {
    "duration": 13,
    "start_time": "2024-06-17T18:50:45.521Z"
   },
   {
    "duration": 13,
    "start_time": "2024-06-17T18:50:45.536Z"
   },
   {
    "duration": 45,
    "start_time": "2024-06-17T18:50:45.551Z"
   },
   {
    "duration": 41,
    "start_time": "2024-06-17T18:50:45.599Z"
   },
   {
    "duration": 39,
    "start_time": "2024-06-17T18:50:45.642Z"
   },
   {
    "duration": 84,
    "start_time": "2024-06-17T18:50:45.683Z"
   },
   {
    "duration": 117,
    "start_time": "2024-06-17T18:50:45.769Z"
   },
   {
    "duration": 75,
    "start_time": "2024-06-17T18:50:45.887Z"
   },
   {
    "duration": 14,
    "start_time": "2024-06-17T18:50:45.964Z"
   },
   {
    "duration": 13,
    "start_time": "2024-06-17T18:50:45.980Z"
   },
   {
    "duration": 11,
    "start_time": "2024-06-17T18:50:45.995Z"
   },
   {
    "duration": 21,
    "start_time": "2024-06-17T18:50:46.008Z"
   },
   {
    "duration": 21,
    "start_time": "2024-06-17T18:50:46.060Z"
   },
   {
    "duration": 4,
    "start_time": "2024-06-17T18:50:46.083Z"
   },
   {
    "duration": 27,
    "start_time": "2024-06-17T18:50:46.090Z"
   },
   {
    "duration": 42,
    "start_time": "2024-06-17T18:50:46.120Z"
   },
   {
    "duration": 17,
    "start_time": "2024-06-17T18:50:46.163Z"
   },
   {
    "duration": 16,
    "start_time": "2024-06-17T18:50:46.182Z"
   },
   {
    "duration": 20,
    "start_time": "2024-06-17T18:50:46.199Z"
   },
   {
    "duration": 48,
    "start_time": "2024-06-17T18:50:46.221Z"
   },
   {
    "duration": 105,
    "start_time": "2024-06-17T18:50:46.270Z"
   },
   {
    "duration": 13,
    "start_time": "2024-06-17T18:50:46.379Z"
   },
   {
    "duration": 29,
    "start_time": "2024-06-17T18:50:46.393Z"
   },
   {
    "duration": 9,
    "start_time": "2024-06-17T18:50:46.424Z"
   },
   {
    "duration": 47,
    "start_time": "2024-06-17T18:50:46.434Z"
   },
   {
    "duration": 12,
    "start_time": "2024-06-17T18:50:46.483Z"
   },
   {
    "duration": 19,
    "start_time": "2024-06-17T18:50:46.496Z"
   },
   {
    "duration": 13,
    "start_time": "2024-06-17T18:50:46.516Z"
   },
   {
    "duration": 31,
    "start_time": "2024-06-17T18:50:46.530Z"
   },
   {
    "duration": 2,
    "start_time": "2024-06-17T18:50:46.563Z"
   },
   {
    "duration": 6,
    "start_time": "2024-06-17T18:50:46.567Z"
   },
   {
    "duration": 6,
    "start_time": "2024-06-17T18:50:46.575Z"
   },
   {
    "duration": 8,
    "start_time": "2024-06-17T18:51:05.099Z"
   },
   {
    "duration": 62,
    "start_time": "2024-06-17T18:52:05.726Z"
   },
   {
    "duration": 9,
    "start_time": "2024-06-17T18:52:13.082Z"
   },
   {
    "duration": 5,
    "start_time": "2024-06-17T18:52:14.882Z"
   }
  ],
  "celltoolbar": "Отсутствует",
  "colab": {
   "collapsed_sections": [
    "E0vqbgi9ay0H",
    "VUC88oWjTJw2"
   ],
   "provenance": []
  },
  "kernelspec": {
   "display_name": "Python 3 (ipykernel)",
   "language": "python",
   "name": "python3"
  },
  "language_info": {
   "codemirror_mode": {
    "name": "ipython",
    "version": 3
   },
   "file_extension": ".py",
   "mimetype": "text/x-python",
   "name": "python",
   "nbconvert_exporter": "python",
   "pygments_lexer": "ipython3",
   "version": "3.9.5"
  },
  "toc": {
   "base_numbering": 1,
   "nav_menu": {
    "height": "215px",
    "width": "403px"
   },
   "number_sections": true,
   "sideBar": true,
   "skip_h1_title": true,
   "title_cell": "Table of Contents",
   "title_sidebar": "Contents",
   "toc_cell": false,
   "toc_position": {
    "height": "calc(100% - 180px)",
    "left": "10px",
    "top": "150px",
    "width": "285.825px"
   },
   "toc_section_display": true,
   "toc_window_display": false
  }
 },
 "nbformat": 4,
 "nbformat_minor": 1
}
